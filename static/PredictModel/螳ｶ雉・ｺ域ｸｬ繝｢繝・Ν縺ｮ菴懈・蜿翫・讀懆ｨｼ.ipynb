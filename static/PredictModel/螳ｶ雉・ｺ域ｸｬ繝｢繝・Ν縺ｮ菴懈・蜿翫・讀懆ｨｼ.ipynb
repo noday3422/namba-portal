{
 "cells": [
  {
   "cell_type": "markdown",
   "metadata": {},
   "source": [
    "# 家賃予測モデルを作成し、WEBに上げる前に検証する"
   ]
  },
  {
   "cell_type": "markdown",
   "metadata": {},
   "source": [
    "## モデルの作成"
   ]
  },
  {
   "cell_type": "code",
   "execution_count": 2,
   "metadata": {},
   "outputs": [],
   "source": [
    "# データの読み込み\n",
    "import numpy as np\n",
    "import pandas as pd\n",
    "import matplotlib.pyplot as plt\n",
    "%matplotlib inline"
   ]
  },
  {
   "cell_type": "code",
   "execution_count": 3,
   "metadata": {},
   "outputs": [],
   "source": [
    "df = pd.read_csv('housing.csv')"
   ]
  },
  {
   "cell_type": "code",
   "execution_count": 4,
   "metadata": {},
   "outputs": [
    {
     "data": {
      "text/html": [
       "<div>\n",
       "<style scoped>\n",
       "    .dataframe tbody tr th:only-of-type {\n",
       "        vertical-align: middle;\n",
       "    }\n",
       "\n",
       "    .dataframe tbody tr th {\n",
       "        vertical-align: top;\n",
       "    }\n",
       "\n",
       "    .dataframe thead th {\n",
       "        text-align: right;\n",
       "    }\n",
       "</style>\n",
       "<table border=\"1\" class=\"dataframe\">\n",
       "  <thead>\n",
       "    <tr style=\"text-align: right;\">\n",
       "      <th></th>\n",
       "      <th>x1</th>\n",
       "      <th>x2</th>\n",
       "      <th>x3</th>\n",
       "      <th>x4</th>\n",
       "      <th>x5</th>\n",
       "      <th>x6</th>\n",
       "      <th>x7</th>\n",
       "      <th>x8</th>\n",
       "      <th>x9</th>\n",
       "      <th>x10</th>\n",
       "      <th>x11</th>\n",
       "      <th>x12</th>\n",
       "      <th>x13</th>\n",
       "      <th>y</th>\n",
       "    </tr>\n",
       "  </thead>\n",
       "  <tbody>\n",
       "    <tr>\n",
       "      <th>0</th>\n",
       "      <td>0.00632</td>\n",
       "      <td>18.0</td>\n",
       "      <td>2.31</td>\n",
       "      <td>0</td>\n",
       "      <td>0.538</td>\n",
       "      <td>6.575</td>\n",
       "      <td>65.2</td>\n",
       "      <td>4.0900</td>\n",
       "      <td>1</td>\n",
       "      <td>296</td>\n",
       "      <td>15.3</td>\n",
       "      <td>396.90</td>\n",
       "      <td>4.98</td>\n",
       "      <td>24.0</td>\n",
       "    </tr>\n",
       "    <tr>\n",
       "      <th>1</th>\n",
       "      <td>0.02731</td>\n",
       "      <td>0.0</td>\n",
       "      <td>7.07</td>\n",
       "      <td>0</td>\n",
       "      <td>0.469</td>\n",
       "      <td>6.421</td>\n",
       "      <td>78.9</td>\n",
       "      <td>4.9671</td>\n",
       "      <td>2</td>\n",
       "      <td>242</td>\n",
       "      <td>17.8</td>\n",
       "      <td>396.90</td>\n",
       "      <td>9.14</td>\n",
       "      <td>21.6</td>\n",
       "    </tr>\n",
       "    <tr>\n",
       "      <th>2</th>\n",
       "      <td>0.02729</td>\n",
       "      <td>0.0</td>\n",
       "      <td>7.07</td>\n",
       "      <td>0</td>\n",
       "      <td>0.469</td>\n",
       "      <td>7.185</td>\n",
       "      <td>61.1</td>\n",
       "      <td>4.9671</td>\n",
       "      <td>2</td>\n",
       "      <td>242</td>\n",
       "      <td>17.8</td>\n",
       "      <td>392.83</td>\n",
       "      <td>4.03</td>\n",
       "      <td>34.7</td>\n",
       "    </tr>\n",
       "    <tr>\n",
       "      <th>3</th>\n",
       "      <td>0.03237</td>\n",
       "      <td>0.0</td>\n",
       "      <td>2.18</td>\n",
       "      <td>0</td>\n",
       "      <td>0.458</td>\n",
       "      <td>6.998</td>\n",
       "      <td>45.8</td>\n",
       "      <td>6.0622</td>\n",
       "      <td>3</td>\n",
       "      <td>222</td>\n",
       "      <td>18.7</td>\n",
       "      <td>394.63</td>\n",
       "      <td>2.94</td>\n",
       "      <td>33.4</td>\n",
       "    </tr>\n",
       "    <tr>\n",
       "      <th>4</th>\n",
       "      <td>0.06905</td>\n",
       "      <td>0.0</td>\n",
       "      <td>2.18</td>\n",
       "      <td>0</td>\n",
       "      <td>0.458</td>\n",
       "      <td>7.147</td>\n",
       "      <td>54.2</td>\n",
       "      <td>6.0622</td>\n",
       "      <td>3</td>\n",
       "      <td>222</td>\n",
       "      <td>18.7</td>\n",
       "      <td>396.90</td>\n",
       "      <td>5.33</td>\n",
       "      <td>36.2</td>\n",
       "    </tr>\n",
       "  </tbody>\n",
       "</table>\n",
       "</div>"
      ],
      "text/plain": [
       "        x1    x2    x3  x4     x5     x6    x7      x8  x9  x10   x11     x12  \\\n",
       "0  0.00632  18.0  2.31   0  0.538  6.575  65.2  4.0900   1  296  15.3  396.90   \n",
       "1  0.02731   0.0  7.07   0  0.469  6.421  78.9  4.9671   2  242  17.8  396.90   \n",
       "2  0.02729   0.0  7.07   0  0.469  7.185  61.1  4.9671   2  242  17.8  392.83   \n",
       "3  0.03237   0.0  2.18   0  0.458  6.998  45.8  6.0622   3  222  18.7  394.63   \n",
       "4  0.06905   0.0  2.18   0  0.458  7.147  54.2  6.0622   3  222  18.7  396.90   \n",
       "\n",
       "    x13     y  \n",
       "0  4.98  24.0  \n",
       "1  9.14  21.6  \n",
       "2  4.03  34.7  \n",
       "3  2.94  33.4  \n",
       "4  5.33  36.2  "
      ]
     },
     "execution_count": 4,
     "metadata": {},
     "output_type": "execute_result"
    }
   ],
   "source": [
    "df.head(5)"
   ]
  },
  {
   "cell_type": "code",
   "execution_count": 5,
   "metadata": {},
   "outputs": [
    {
     "data": {
      "text/plain": [
       "506"
      ]
     },
     "execution_count": 5,
     "metadata": {},
     "output_type": "execute_result"
    }
   ],
   "source": [
    "len(df)"
   ]
  },
  {
   "cell_type": "code",
   "execution_count": 6,
   "metadata": {},
   "outputs": [],
   "source": [
    "# まずはシンプルにモデルを作って、WebAPI化するところまでやる\n",
    "x = df.iloc[:,:-1]\n",
    "t = df.iloc[:,-1]"
   ]
  },
  {
   "cell_type": "code",
   "execution_count": 7,
   "metadata": {},
   "outputs": [
    {
     "data": {
      "text/plain": [
       "(506, 13)"
      ]
     },
     "execution_count": 7,
     "metadata": {},
     "output_type": "execute_result"
    }
   ],
   "source": [
    "x.shape"
   ]
  },
  {
   "cell_type": "code",
   "execution_count": 8,
   "metadata": {},
   "outputs": [
    {
     "data": {
      "text/plain": [
       "(506,)"
      ]
     },
     "execution_count": 8,
     "metadata": {},
     "output_type": "execute_result"
    }
   ],
   "source": [
    "t.shape"
   ]
  },
  {
   "cell_type": "code",
   "execution_count": 37,
   "metadata": {},
   "outputs": [],
   "source": [
    "from sklearn.linear_model import LinearRegression\n",
    "from sklearn.model_selection import train_test_split"
   ]
  },
  {
   "cell_type": "code",
   "execution_count": 42,
   "metadata": {},
   "outputs": [],
   "source": [
    "x_train, x_test, t_train, t_test = train_test_split(x, t, test_size=0.4, random_state=1)\n",
    "model = LinearRegression()"
   ]
  },
  {
   "cell_type": "code",
   "execution_count": 46,
   "metadata": {},
   "outputs": [
    {
     "data": {
      "text/plain": [
       "(303,)"
      ]
     },
     "execution_count": 46,
     "metadata": {},
     "output_type": "execute_result"
    }
   ],
   "source": [
    "t_train.shape"
   ]
  },
  {
   "cell_type": "code",
   "execution_count": 48,
   "metadata": {},
   "outputs": [
    {
     "data": {
      "text/plain": [
       "LinearRegression(copy_X=True, fit_intercept=True, n_jobs=1, normalize=False)"
      ]
     },
     "execution_count": 48,
     "metadata": {},
     "output_type": "execute_result"
    }
   ],
   "source": [
    "model.fit(x_train, t_train)"
   ]
  },
  {
   "cell_type": "code",
   "execution_count": 49,
   "metadata": {},
   "outputs": [
    {
     "data": {
      "text/plain": [
       "0.7468316520140624"
      ]
     },
     "execution_count": 49,
     "metadata": {},
     "output_type": "execute_result"
    }
   ],
   "source": [
    "model.score(x_train, t_train)"
   ]
  },
  {
   "cell_type": "code",
   "execution_count": 50,
   "metadata": {},
   "outputs": [
    {
     "data": {
      "text/plain": [
       "0.7209056672661771"
      ]
     },
     "execution_count": 50,
     "metadata": {},
     "output_type": "execute_result"
    }
   ],
   "source": [
    "model.score(x_test, t_test)"
   ]
  },
  {
   "cell_type": "code",
   "execution_count": 52,
   "metadata": {},
   "outputs": [
    {
     "data": {
      "text/plain": [
       "21.227239024792492"
      ]
     },
     "execution_count": 52,
     "metadata": {},
     "output_type": "execute_result"
    }
   ],
   "source": [
    "model.predict([x_test.iloc[3,:]])[0]"
   ]
  },
  {
   "cell_type": "code",
   "execution_count": 53,
   "metadata": {},
   "outputs": [],
   "source": [
    "from sklearn.externals import joblib"
   ]
  },
  {
   "cell_type": "code",
   "execution_count": 56,
   "metadata": {},
   "outputs": [
    {
     "data": {
      "text/plain": [
       "['model_house.pkl']"
      ]
     },
     "execution_count": 56,
     "metadata": {},
     "output_type": "execute_result"
    }
   ],
   "source": [
    "# モデルの保存\n",
    "joblib.dump(model, 'model_house.pkl')"
   ]
  },
  {
   "cell_type": "markdown",
   "metadata": {},
   "source": [
    "## モデルをWebAPI化"
   ]
  },
  {
   "cell_type": "code",
   "execution_count": 85,
   "metadata": {},
   "outputs": [],
   "source": [
    "import requests\n",
    "import json\n",
    "url = 'https://predict-house.herokuapp.com'\n",
    "#url = 'http://127.0.0.1:5000/'"
   ]
  },
  {
   "cell_type": "code",
   "execution_count": 86,
   "metadata": {},
   "outputs": [],
   "source": [
    "x_post = list(x.iloc[0,:].values)\n",
    "res = requests.post(url, json={'x_post':str(x_post)})"
   ]
  },
  {
   "cell_type": "code",
   "execution_count": 87,
   "metadata": {},
   "outputs": [
    {
     "data": {
      "text/plain": [
       "<Response [200]>"
      ]
     },
     "execution_count": 87,
     "metadata": {},
     "output_type": "execute_result"
    }
   ],
   "source": [
    "res"
   ]
  },
  {
   "cell_type": "code",
   "execution_count": 89,
   "metadata": {},
   "outputs": [
    {
     "data": {
      "text/plain": [
       "{'y': 29.423688469405622}"
      ]
     },
     "execution_count": 89,
     "metadata": {},
     "output_type": "execute_result"
    }
   ],
   "source": [
    "res.json()"
   ]
  },
  {
   "cell_type": "markdown",
   "metadata": {},
   "source": [
    "## それはそれとしてchainerで実装してみる"
   ]
  },
  {
   "cell_type": "markdown",
   "metadata": {},
   "source": [
    "### データ準備"
   ]
  },
  {
   "cell_type": "code",
   "execution_count": 92,
   "metadata": {},
   "outputs": [],
   "source": [
    "# xとtをnumpyで準備してdatasetに固める感じ\n",
    "x = df.iloc[:,:-1]\n",
    "t = df.iloc[:,-1]\n",
    "x = x.values.astype('f')\n",
    "t = t.values.astype('f')"
   ]
  },
  {
   "cell_type": "code",
   "execution_count": 96,
   "metadata": {},
   "outputs": [
    {
     "data": {
      "text/plain": [
       "dtype('float32')"
      ]
     },
     "execution_count": 96,
     "metadata": {},
     "output_type": "execute_result"
    }
   ],
   "source": [
    "x[0].dtype"
   ]
  },
  {
   "cell_type": "code",
   "execution_count": 97,
   "metadata": {},
   "outputs": [
    {
     "data": {
      "text/plain": [
       "dtype('float32')"
      ]
     },
     "execution_count": 97,
     "metadata": {},
     "output_type": "execute_result"
    }
   ],
   "source": [
    "t[0].dtype"
   ]
  },
  {
   "cell_type": "code",
   "execution_count": 98,
   "metadata": {},
   "outputs": [
    {
     "data": {
      "text/plain": [
       "(506,)"
      ]
     },
     "execution_count": 98,
     "metadata": {},
     "output_type": "execute_result"
    }
   ],
   "source": [
    "t.shape"
   ]
  },
  {
   "cell_type": "code",
   "execution_count": 99,
   "metadata": {},
   "outputs": [],
   "source": [
    "t = t.reshape(506, 1)"
   ]
  },
  {
   "cell_type": "code",
   "execution_count": 100,
   "metadata": {},
   "outputs": [
    {
     "data": {
      "text/plain": [
       "(506, 1)"
      ]
     },
     "execution_count": 100,
     "metadata": {},
     "output_type": "execute_result"
    }
   ],
   "source": [
    "t.shape"
   ]
  },
  {
   "cell_type": "code",
   "execution_count": 101,
   "metadata": {},
   "outputs": [
    {
     "data": {
      "text/plain": [
       "(506, 13)"
      ]
     },
     "execution_count": 101,
     "metadata": {},
     "output_type": "execute_result"
    }
   ],
   "source": [
    "x.shape"
   ]
  },
  {
   "cell_type": "code",
   "execution_count": 102,
   "metadata": {},
   "outputs": [],
   "source": [
    "dataset = list(zip(x, t))"
   ]
  },
  {
   "cell_type": "code",
   "execution_count": 105,
   "metadata": {},
   "outputs": [],
   "source": [
    "n = int(len(dataset)*0.7)"
   ]
  },
  {
   "cell_type": "code",
   "execution_count": 106,
   "metadata": {},
   "outputs": [
    {
     "data": {
      "text/plain": [
       "354"
      ]
     },
     "execution_count": 106,
     "metadata": {},
     "output_type": "execute_result"
    }
   ],
   "source": [
    "n"
   ]
  },
  {
   "cell_type": "code",
   "execution_count": 138,
   "metadata": {},
   "outputs": [],
   "source": [
    "import chainer\n",
    "import chainer.links as L\n",
    "import chainer.functions as F\n",
    "from chainer import training\n",
    "from chainer.training import extensions"
   ]
  },
  {
   "cell_type": "code",
   "execution_count": 139,
   "metadata": {},
   "outputs": [],
   "source": [
    "train, test = chainer.datasets.split_dataset_random(dataset, n, seed=0)"
   ]
  },
  {
   "cell_type": "code",
   "execution_count": 140,
   "metadata": {},
   "outputs": [],
   "source": [
    "class NN(chainer.Chain):\n",
    "    def __init__(self, n_mid1=32, n_out=1):\n",
    "        super().__init__()\n",
    "        with self.init_scope():\n",
    "            self.fc1 = L.Linear(None, n_mid1)\n",
    "            self.fc2 = L.Linear(None, n_out)\n",
    "            self.bn = L.BatchNormalization(13)\n",
    "            \n",
    "    def __call__(self, x):\n",
    "        self.bn(x)\n",
    "        h = F.relu(self.fc1(x))\n",
    "        h = F.relu(self.fc2(h))\n",
    "        return h"
   ]
  },
  {
   "cell_type": "code",
   "execution_count": 141,
   "metadata": {},
   "outputs": [],
   "source": [
    "np.random.seed(0)"
   ]
  },
  {
   "cell_type": "code",
   "execution_count": 142,
   "metadata": {},
   "outputs": [],
   "source": [
    "model = model = L.Classifier(NN(), lossfun= F.mean_squared_error)\n",
    "model.compute_accuracy = False"
   ]
  },
  {
   "cell_type": "code",
   "execution_count": 143,
   "metadata": {},
   "outputs": [],
   "source": [
    "batchsize=10\n",
    "epoch = 100\n",
    "optimizer = chainer.optimizers.Adam()\n",
    "optimizer.setup(model)\n",
    "train_iter = chainer.iterators.SerialIterator(train, batchsize)\n",
    "test_iter = chainer.iterators.SerialIterator(test, batchsize, repeat=False, shuffle=False)\n",
    "updater = training.StandardUpdater(train_iter, optimizer, device = -1)\n",
    "trainer = training.Trainer(updater, (epoch, 'epoch'), out = 'result/housing')\n",
    "trainer.extend(extensions.Evaluator(test_iter, model, device=-1))\n",
    "trainer.extend(extensions.LogReport(trigger=(1, 'epoch')))\n",
    "trainer.extend(extensions.PrintReport(['epoch', 'main/accuracy', 'validation/main/accuracy', 'main/loss', 'validation/main/loss', 'elapsed_time']), trigger = (1,'epoch'))"
   ]
  },
  {
   "cell_type": "code",
   "execution_count": 144,
   "metadata": {},
   "outputs": [
    {
     "name": "stdout",
     "output_type": "stream",
     "text": [
      "epoch       main/accuracy  validation/main/accuracy  main/loss   validation/main/loss  elapsed_time\n",
      "\u001b[J1                                                    291.937     113.253               0.0885197     \n",
      "\u001b[J2                                                    81.8182     91.2356               0.15784       \n",
      "\u001b[J3                                                    67.75       81.9181               0.230286      \n",
      "\u001b[J4                                                    65.2175     77.3589               0.298099      \n",
      "\u001b[J5                                                    61.1186     72.0782               0.37925       \n",
      "\u001b[J6                                                    57.801      68.0416               0.448222      \n",
      "\u001b[J7                                                    55.5932     65.6372               0.518024      \n",
      "\u001b[J8                                                    55.9478     63.9415               0.586636      \n",
      "\u001b[J9                                                    49.1335     66.045                0.668293      \n",
      "\u001b[J10                                                   51.8069     59.4926               0.736024      \n",
      "\u001b[J11                                                   48.7683     58.1519               0.802607      \n",
      "\u001b[J12                                                   47.1622     56.6062               0.869442      \n",
      "\u001b[J13                                                   46.3158     58.8174               0.95505       \n",
      "\u001b[J14                                                   46.8689     55.9406               1.02636       \n",
      "\u001b[J15                                                   46.7381     54.1226               1.09751       \n",
      "\u001b[J16                                                   44.6914     52.2813               1.17458       \n",
      "\u001b[J17                                                   43.3123     51.0921               1.24467       \n",
      "\u001b[J18                                                   42.9822     52.7533               1.31915       \n",
      "\u001b[J19                                                   42.622      48.9122               1.39816       \n",
      "\u001b[J20                                                   40.9136     59.3674               1.47365       \n",
      "\u001b[J21                                                   42.7316     47.8022               1.5461        \n",
      "\u001b[J22                                                   39.7449     47.2045               1.62621       \n",
      "\u001b[J23                                                   40.2232     47.5302               1.69496       \n",
      "\u001b[J24                                                   37.5705     45.6395               1.76585       \n",
      "\u001b[J25                                                   38.4997     44.509                1.84162       \n",
      "\u001b[J26                                                   37.0834     44.0848               1.91471       \n",
      "\u001b[J27                                                   35.8345     44.2566               2.01144       \n",
      "\u001b[J28                                                   35.3993     43.2232               2.09913       \n",
      "\u001b[J29                                                   35.2685     42.1495               2.17936       \n",
      "\u001b[J30                                                   35.3123     46.935                2.24904       \n",
      "\u001b[J31                                                   34.8721     41.2895               2.33624       \n",
      "\u001b[J32                                                   35.4841     43.3208               2.42131       \n",
      "\u001b[J33                                                   36.015      41.306                2.51818       \n",
      "\u001b[J34                                                   32.7051     39.8569               2.60276       \n",
      "\u001b[J35                                                   34.3252     40.8517               2.68677       \n",
      "\u001b[J36                                                   32.5306     40.3346               2.76673       \n",
      "\u001b[J37                                                   34.4517     39.1476               2.83899       \n",
      "\u001b[J38                                                   32.7779     47.5307               2.90833       \n",
      "\u001b[J39                                                   32.8096     42.5751               3.00614       \n",
      "\u001b[J40                                                   30.6461     38.6522               3.09712       \n",
      "\u001b[J41                                                   30.503      36.6324               3.18772       \n",
      "\u001b[J42                                                   30.643      36.7013               3.28206       \n",
      "\u001b[J43                                                   31.1147     38.406                3.35548       \n",
      "\u001b[J44                                                   31.6173     35.7863               3.4227        \n",
      "\u001b[J45                                                   30.57       34.8062               3.49167       \n",
      "\u001b[J46                                                   29.1972     35.4188               3.56933       \n",
      "\u001b[J47                                                   30.1805     33.6974               3.63965       \n",
      "\u001b[J48                                                   29.6315     37.0812               3.71957       \n",
      "\u001b[J49                                                   33.7947     36.6767               3.80435       \n",
      "\u001b[J50                                                   29.8194     32.9325               3.88483       \n",
      "\u001b[J51                                                   29.0831     40.2147               3.97458       \n",
      "\u001b[J52                                                   30.3194     34.3058               4.06001       \n",
      "\u001b[J53                                                   29.5413     33.45                 4.13549       \n",
      "\u001b[J54                                                   30.876      32.2106               4.22055       \n",
      "\u001b[J55                                                   29.9675     38.3764               4.29387       \n",
      "\u001b[J56                                                   29.9322     33.2818               4.36462       \n",
      "\u001b[J57                                                   28.4463     31.5626               4.43868       \n",
      "\u001b[J58                                                   28.1674     33.3746               4.52388       \n",
      "\u001b[J59                                                   29.1506     31.9463               4.5971        \n",
      "\u001b[J60                                                   28.0217     30.9297               4.67593       \n",
      "\u001b[J61                                                   27.3386     32.3096               4.76247       \n",
      "\u001b[J62                                                   30.1495     33.6214               4.83402       \n",
      "\u001b[J63                                                   27.6154     30.7474               4.93605       \n",
      "\u001b[J64                                                   27.4506     30.2511               5.023         \n",
      "\u001b[J65                                                   28.3404     29.6932               5.10924       \n",
      "\u001b[J66                                                   26.6243     32.2084               5.18595       \n",
      "\u001b[J67                                                   29.4983     36.4906               5.26561       \n",
      "\u001b[J68                                                   29.4242     30.945                5.34513       \n",
      "\u001b[J69                                                   24.4764     29.7747               5.42462       \n",
      "\u001b[J70                                                   29.3691     31.0952               5.5092        \n",
      "\u001b[J71                                                   27.6148     30.1026               5.59051       \n",
      "\u001b[J72                                                   26.6503     30.0689               5.67562       \n",
      "\u001b[J73                                                   26.5383     43.2986               5.74798       \n",
      "\u001b[J74                                                   33.3621     31.7037               5.81738       \n",
      "\u001b[J75                                                   24.8876     29.2665               5.89221       \n",
      "\u001b[J76                                                   25.8264     28.7906               5.99006       \n",
      "\u001b[J77                                                   27.8394     39.1035               6.08577       \n",
      "\u001b[J78                                                   28.8126     28.8442               6.18955       \n",
      "\u001b[J79                                                   26.9168     28.9114               6.27174       \n",
      "\u001b[J80                                                   26.3694     28.9633               6.34407       \n"
     ]
    },
    {
     "name": "stdout",
     "output_type": "stream",
     "text": [
      "\u001b[J81                                                   25.6251     29.0972               6.41417       \n",
      "\u001b[J82                                                   26.5727     29.8943               6.49516       \n",
      "\u001b[J83                                                   31.6158     28.1975               6.59135       \n",
      "\u001b[J84                                                   28.1748     30.1904               6.68238       \n",
      "\u001b[J85                                                   24.4824     26.9609               6.75346       \n",
      "\u001b[J86                                                   26.9866     33.9322               6.82948       \n",
      "\u001b[J87                                                   28.6754     28.703                6.90861       \n",
      "\u001b[J88                                                   26.1452     29.3198               6.98339       \n",
      "\u001b[J89                                                   25.9421     26.7781               7.05362       \n",
      "\u001b[J90                                                   25.3817     29.5329               7.14862       \n",
      "\u001b[J91                                                   27.86       29.7408               7.22355       \n",
      "\u001b[J92                                                   24.7679     30.1374               7.29423       \n",
      "\u001b[J93                                                   25.5214     26.4193               7.36482       \n",
      "\u001b[J94                                                   25.7863     27.5706               7.4421        \n",
      "\u001b[J95                                                   24.6008     29.6031               7.51128       \n",
      "\u001b[J96                                                   28.2597     30.7                  7.58291       \n",
      "\u001b[J97                                                   27.1178     29.9679               7.65026       \n",
      "\u001b[J98                                                   25.1577     27.0158               7.72248       \n",
      "\u001b[J99                                                   24.808      25.9567               7.79314       \n",
      "\u001b[J100                                                  25.1879     26.1179               7.86139       \n"
     ]
    }
   ],
   "source": [
    "trainer.run()"
   ]
  },
  {
   "cell_type": "code",
   "execution_count": null,
   "metadata": {},
   "outputs": [],
   "source": []
  },
  {
   "cell_type": "code",
   "execution_count": null,
   "metadata": {},
   "outputs": [],
   "source": []
  },
  {
   "cell_type": "code",
   "execution_count": null,
   "metadata": {},
   "outputs": [],
   "source": []
  },
  {
   "cell_type": "code",
   "execution_count": null,
   "metadata": {},
   "outputs": [],
   "source": []
  },
  {
   "cell_type": "code",
   "execution_count": null,
   "metadata": {},
   "outputs": [],
   "source": []
  }
 ],
 "metadata": {
  "kernelspec": {
   "display_name": "Python 3",
   "language": "python",
   "name": "python3"
  },
  "language_info": {
   "codemirror_mode": {
    "name": "ipython",
    "version": 3
   },
   "file_extension": ".py",
   "mimetype": "text/x-python",
   "name": "python",
   "nbconvert_exporter": "python",
   "pygments_lexer": "ipython3",
   "version": "3.6.5"
  }
 },
 "nbformat": 4,
 "nbformat_minor": 2
}
